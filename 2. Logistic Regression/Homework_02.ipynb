{
  "cells": [
    {
      "cell_type": "markdown",
      "metadata": {
        "id": "xcB44Fu1YeGQ"
      },
      "source": [
        "# Logistic Regression Homework\n",
        "\n",
        "This is the 2nd assignment for CAP 4630 and we will implement logistic regression and apply it to two\n",
        "different datasets. \\\n",
        "You will use **\"Tasks\"** and **\"Hints\"** to finish the work. **(Total 100 Points)** \\\n",
        "You are **not** allowed to use Machine Learning libaries such as Scikit-learn and Keras.\n",
        "\n",
        "**Task Overview:**\n",
        "- Logistic Regression "
      ]
    },
    {
      "cell_type": "markdown",
      "metadata": {
        "id": "fevvfQB2YeGT"
      },
      "source": [
        "## 1 - Logistic Regression ##\n",
        "### 1.1 Packages\n",
        "\n",
        "Import useful packages for scientific computing and data processing. \n",
        "\n",
        "**Tasks:**\n",
        "1. Import numpy and rename it to np.\n",
        "2. Import pandas and rename it to pd.\n",
        "3. Import the pyplot function in the libraray of matplotlib and rename it to plt.\n",
        "\n",
        "References:\n",
        "- [numpy](www.numpy.org) is the fundamental package for scientific computing with Python.\n",
        "- [matplotlib](http://matplotlib.org) is a famous library to plot graphs in Python.\n",
        "\n",
        "**Attention:**\n",
        "1. After this renaming, you will use the new name to call functions. For example, **numpy** will become **np** in the following sections."
      ]
    },
    {
      "cell_type": "code",
      "execution_count": null,
      "metadata": {
        "id": "SO2Jys4DYeGT"
      },
      "outputs": [],
      "source": [
        "# Import and rename libraries here\n",
        "import numpy as np\n",
        "import pandas as pd\n",
        "import matplotlib.pyplot as plt"
      ]
    },
    {
      "cell_type": "markdown",
      "metadata": {
        "collapsed": true,
        "id": "UIQD7ttzYeGU"
      },
      "source": [
        "### 1.2 - Data Preparation ##\n",
        "\n",
        "Prepare the data for regression task. **(20 Points)**\n",
        "\n",
        "**Tasks:**\n",
        "1. Load data for logistic regression.\n",
        "2. **Generate the SCATTER PLOT of the data**.\n",
        "\n",
        "**Hints:**\n",
        "1. The data file is \"data_logistic.csv\", which are exam scores for students.\n",
        "2. The data is organized by column: x1 (exam 1 score), x2 (exam 2 score), and label y (pass 1 or fail 0).\n",
        "3. Please use different colors for postive(label=1) and negative(label=0) data.\n",
        "4. An example of scatter plots is shown below.\n",
        "\n",
        "![](https://drive.google.com/uc?export=view&id=1CPv5s4W8SkUMa_sXCIz-NejSnFj-e1IH)"
      ]
    },
    {
      "cell_type": "code",
      "execution_count": null,
      "metadata": {
        "colab": {
          "base_uri": "https://localhost:8080/",
          "height": 296
        },
        "id": "Oe651HudYeGU",
        "outputId": "dc56da6a-47bf-4114-a083-f0321cf0b17d"
      },
      "outputs": [
        {
          "output_type": "execute_result",
          "data": {
            "text/plain": [
              "<matplotlib.legend.Legend at 0x7fc1930815d0>"
            ]
          },
          "metadata": {},
          "execution_count": 2
        },
        {
          "output_type": "display_data",
          "data": {
            "text/plain": [
              "<Figure size 432x288 with 1 Axes>"
            ],
            "image/png": "[encoded data removed]"
          },
          "metadata": {
            "needs_background": "light"
          }
        }
      ],
      "source": [
        "# Load csv file\n",
        "url = '/content/data_logistic.csv'\n",
        "df = pd.read_csv(url)\n",
        "\n",
        "X=df.iloc[:,:-1].values\n",
        "y=df.iloc[:,-1].values\n",
        "\n",
        "pos , neg = (y==1).reshape(80,1) , (y==0).reshape(80,1)\n",
        "plt.scatter(X[pos[:,0],0], X[pos[:,0],1], c=\"k\", marker=\"+\")\n",
        "plt.scatter(X[neg[:,0],0], X[neg[:,0],1], c=\"y\", marker=\"o\")\n",
        "plt.xlabel(\"x1\")\n",
        "plt.ylabel(\"x2\")\n",
        "plt.legend([\"Positive\", \"Negative\"], loc=0)"
      ]
    },
    {
      "cell_type": "markdown",
      "metadata": {
        "id": "BtdCnl8pYeGU"
      },
      "source": [
        "### 1.3 - Sigmoid function ##\n",
        "\n",
        "\n",
        "Implement sigmoid function so it can be called by the rest of your program. **(20 Points)**\n",
        "\n",
        "**Tasks:**\n",
        "1. Implement the sigmoid function (**def sigmoid(z):**). \n",
        "2. Test the sigmoid function by function **plotting** with test data (X, Y) where Y = sigmoid(X). \n",
        "\n",
        "**Hints:**  \n",
        "1. Given the class material, sigmoid function is defined as:\n",
        "$g(z) = \\frac{1}{1+e^{-z}}$.\n",
        "2. You may consider X = np.linspace(-5, 5, 1000) to plot the curve.\n",
        "3. Plot Y against X.\n",
        "4. An example of plot for validation is shown below:\n",
        "\n",
        "![](https://drive.google.com/uc?export=view&id=18j5oHdw78uVm2WwHsdIb4hwhpXDxR37S)"
      ]
    },
    {
      "cell_type": "code",
      "execution_count": null,
      "metadata": {
        "id": "O8BaeI5JYeGU"
      },
      "outputs": [],
      "source": [
        "# Implement sigmoid fuction here\n",
        "def sigmoid(z):\n",
        "    sigmoid = 1 / (1 + np.exp(-z))\n",
        "    return sigmoid\n"
      ]
    },
    {
      "cell_type": "code",
      "execution_count": null,
      "metadata": {
        "id": "Snf0m3TiYeGV",
        "colab": {
          "base_uri": "https://localhost:8080/",
          "height": 296
        },
        "outputId": "8daee572-d2b1-4954-9e79-55d25118e953"
      },
      "outputs": [
        {
          "output_type": "display_data",
          "data": {
            "text/plain": [
              "<Figure size 432x288 with 1 Axes>"
            ],
            "image/png": "[encoded data removed]"
          },
          "metadata": {
            "needs_background": "light"
          }
        },
        {
          "output_type": "stream",
          "name": "stdout",
          "text": [
            "sigmoid(0) = 0.5\n"
          ]
        }
      ],
      "source": [
        "# Plot data here\n",
        "X = np.linspace(-5, 5, 1000)\n",
        "Y = sigmoid(X)\n",
        "\n",
        "plt.plot(X, Y)\n",
        "plt.xlabel(\"X\")\n",
        "plt.ylabel(\"g(X)\")\n",
        "\n",
        "plt.show()\n",
        "\n",
        "print('sigmoid(0) = ' + str(sigmoid(0)))"
      ]
    },
    {
      "cell_type": "markdown",
      "metadata": {
        "id": "NfNHI2eRYeGV"
      },
      "source": [
        "### 1.4 - Cost function and gradient ##\n",
        "\n",
        "Implement the cross entropy cost function and its gradient for logistic regression. **(30 Points)**\n",
        "\n",
        "**Tasks:**\n",
        "1. Implement the \"cal_cost\" to compute the cost.\n",
        "2. Implement the \"cal_grad\" to compute the gradients.\n",
        "3. Test \"cal_cost\" and \"cal_grad\" with initial values and print out the results.\n",
        "\n",
        "**Hint:**\n",
        "1. The cross entropy cost function (J(θ)) in logistic regression is shown below. It involves two terms, including ylog(h) and (1-y)log(1-h) where h is the function of x.\n",
        "\n",
        "![](https://drive.google.com/uc?export=view&id=1xLhlPFI4wekwuA7lFm7ebRVt0XBZk3e7)\n",
        "\n",
        "2. The gradient of the cost J(θ) is a vector of the same length as θ where the $j$th element (for $j = 0, 1, . . . , n)$ is defined below. You may do a hand calculation to justify the first order derivative with the term above.\n",
        "\n",
        "![](https://drive.google.com/uc?export=view&id=1xfA0A0xyRv2L5JZIdedAmEZxZ3DwpOCF)\n",
        "\n",
        "3. When you implement J(θ), please use eps = 1e-15 to prevent possible \"divide by 0 exception\" in second term. You may think about the reason.\n",
        "4. You may consider the below templates for two functions:\n",
        "\n",
        "    def cal_cost(theta, X, y):\n",
        " \n",
        "        htheta = ...\n",
        "        term1 = ...  /* matrix_multiplication(log(htheta), y)\n",
        "        term2 = ...  /* matrix_multiplication(log(1-htheta+eps), (1-y))\n",
        "        J = - 1 / m * (term1 + term2) \n",
        "        \n",
        "        return cost\n",
        "        \n",
        "    \n",
        "    def cal_grad(theta, X, y):\n",
        "        \n",
        "        htheta = ...\n",
        "        term1 = ... /* matrix_multiplication(transpose(X), (htheta - y))  //you may think about why transpose(x)\n",
        "        grad = 1 / m * term1 \n",
        "    \n",
        "        return grad\n",
        "5. It involves matrix multiplication and you may consider the function of np.matmul or np.dot.   \n",
        "        \n",
        "6. Initialize the intercept term (constant term) with **ones** and the theta with **zeros**. Test the functions with these initial values. \\\n",
        "    **Expected outputs:**\\\n",
        "    Cost at initial theta : 0.6931471805599445\\\n",
        "    Gradient at inital theta : [-0.1        -10.91242026 -11.73652937]\n"
      ]
    },
    {
      "cell_type": "code",
      "execution_count": null,
      "metadata": {
        "id": "lDOJGDtKYeGb"
      },
      "outputs": [],
      "source": [
        "# Implement the cost function here\n",
        "def cal_cost(theta, X, y):\n",
        "  m = len(y)\n",
        "  htheta = sigmoid(np.matmul(X, theta))\n",
        "  eps = 1e-15\n",
        "\n",
        "  term1 = np.multiply(np.log(htheta), y) \n",
        "  term2 = np.multiply(np.log(1 - htheta + eps), (1 - y))\n",
        "\n",
        "  cost = - 1 / m * np.sum(term1 + term2) \n",
        "\n",
        "  return cost\n",
        "\n",
        "# Gradient function\n",
        "def cal_grad(theta, X, y):\n",
        "    m = len(y)\n",
        "    htheta = sigmoid(np.dot(X,theta))\n",
        "    term1 = np.dot(X.transpose(),(htheta - y))\n",
        "    grad = 1 / m * term1 \n",
        "\n",
        "    return grad"
      ]
    },
    {
      "cell_type": "code",
      "source": [
        "# Testing the functions\n",
        "X = df.iloc[:,:-1].values\n",
        "y = df.iloc[:,-1].values\n",
        "\n",
        "m = X.shape[0]\n",
        "n = X.shape[1]\n",
        "\n",
        "X = np.append(np.ones((m, 1)), X, axis = 1)\n",
        "y = y.reshape(m , 1)\n",
        "theta = np.zeros((n + 1,1))\n",
        "\n",
        "cost = cal_cost(theta, X, y)\n",
        "grad = cal_grad(theta, X, y)\n",
        "\n",
        "print(\"Cost of initial theta is\",cost)\n",
        "print(\"Gradient at initial theta (zeros):\",grad)"
      ],
      "metadata": {
        "colab": {
          "base_uri": "https://localhost:8080/"
        },
        "id": "5drTBX9Zw8Vg",
        "outputId": "7a11f6f4-663d-40ab-abf2-a9414c854866"
      },
      "execution_count": null,
      "outputs": [
        {
          "output_type": "stream",
          "name": "stdout",
          "text": [
            "Cost of initial theta is 0.6931471805599445\n",
            "Gradient at initial theta (zeros): [[ -0.1       ]\n",
            " [-10.91242026]\n",
            " [-11.73652937]]\n"
          ]
        }
      ]
    },
    {
      "cell_type": "markdown",
      "metadata": {
        "id": "4Nu3Lt9jYeGc"
      },
      "source": [
        "## 1.5 Train parameters with Gradient Descent ##\n",
        "\n",
        "\n",
        "Train parameters using Gradient Descent. **(15 Points)**\n",
        "\n",
        "**Tasks:**\n",
        "1. Calculate best fit theta by Gradient Descent with learning rate of **0.001 (1e-3)** and epoch of **80K**. The initial theta from above blocks is used as initial values.\n",
        "2. Print out the best theta (the last one is considered as the best here) and its corresponding cost.\n",
        "3. **Plot the decision boundary**.\n",
        "\n",
        "**Hints:**\n",
        "1. You may take gradient descent in homework 1 as an template.\n",
        "2. Derive the boundary line from **sigmoid(theta[0]+ X1 * theta[1] + X2* theta[2])=0.5**. Think about why we get the line by setting **the activated probability to 0.5**. Also, try to calculate the final relationship between X1 and X2. When sigmoid(X) = 0.5, what is the value of x? Check the generated plot in 1.3.\n",
        "3. The validation of first 5 epochs (updated theta and cost): \\\n",
        "------Epoch 0------\\\n",
        "Theta: [0.0001     0.01091242 0.01173653]\\\n",
        "Cost: 0.6996118077359638\\\n",
        "------Epoch 1------\\\n",
        "Theta: [-0.0001129   0.00053949  0.00229352]\\\n",
        "Cost: 0.6649331468590681\\\n",
        "------Epoch 2------\\\n",
        "Theta: [-5.93604956e-05  8.33145873e-03  1.07754324e-02]\\\n",
        "Cost: 0.6679914364992459\\\n",
        "------Epoch 3------\\\n",
        "Theta: [-0.0002356   0.0004607   0.00370829]\\\n",
        "Cost: 0.6545873034874964\\\n",
        "------Epoch 4------\\\n",
        "Theta: [-0.00020363  0.00683227  0.01065138]\\\n",
        "Cost: 0.6563302142684528\n",
        "4. You may take the plots below as an exmample: \n",
        "\n",
        "![](https://drive.google.com/uc?export=view&id=1xLg9LrIF888gGXj3zRAG9iJLsyAmgPQg)\n",
        "\n",
        "5. It may take ~1 min to finish running."
      ]
    },
    {
      "cell_type": "code",
      "execution_count": null,
      "metadata": {
        "id": "hQreJkJGYeGc",
        "colab": {
          "base_uri": "https://localhost:8080/"
        },
        "outputId": "0fa5642d-8536-4c40-abde-61c3638ba812"
      },
      "outputs": [
        {
          "output_type": "stream",
          "name": "stdout",
          "text": [
            "------Epoch 79999------\n",
            "\n",
            "Best Theta: [[-3.88329777]\n",
            " [ 0.02947987]\n",
            " [ 0.03935448]]\n",
            "Best Cost 0.43838894881827817\n"
          ]
        }
      ],
      "source": [
        "L = 0.001       # Learning Rate\n",
        "epochs = 80000  # Iterations\n",
        "m = float(len(y))\n",
        "\n",
        "for i in range(epochs):\n",
        "  theta = theta - (L * grad)\n",
        "  cost = cal_cost(theta, X, y)\n",
        "  grad = cal_grad(theta, X, y)\n",
        "\n",
        "# Prints the best theta and cost \n",
        "print (\"------Epoch \" + str(i) + \"------\\n\")\n",
        "print (\"Best Theta: \" + str(theta))\n",
        "print (\"Best Cost \" + str(cost))"
      ]
    },
    {
      "cell_type": "code",
      "execution_count": null,
      "metadata": {
        "id": "D54Cd6S0YeGd",
        "colab": {
          "base_uri": "https://localhost:8080/",
          "height": 296
        },
        "outputId": "5998836b-22e7-4303-cefa-9d2277d87d2c"
      },
      "outputs": [
        {
          "output_type": "execute_result",
          "data": {
            "text/plain": [
              "<matplotlib.legend.Legend at 0x7fc18feb1210>"
            ]
          },
          "metadata": {},
          "execution_count": 8
        },
        {
          "output_type": "display_data",
          "data": {
            "text/plain": [
              "<Figure size 432x288 with 1 Axes>"
            ],
            "image/png": "[encoded data removed]"
          },
          "metadata": {
            "needs_background": "light"
          }
        }
      ],
      "source": [
        "# Scatter plot of each elements\n",
        "plt.scatter(X[pos[:,0],1], X[pos[:,0],2], c=\"k\", marker=\"+\", label=\"Positive\")\n",
        "plt.scatter(X[neg[:,0],1], X[neg[:,0],2], c=\"y\", marker=\"o\", label=\"Negative\")\n",
        "\n",
        "# Plot the boundary line\n",
        "x_value= np.array([np.min(X[:,1]),np.max(X[:,1])])\n",
        "y1 = (-(theta[0] + theta[1] * np.min(X[:,1])) /theta[2]) + 18\n",
        "y2 = (-(theta[0] + theta[1] * np.max(X[:,1])) /theta[2]) - 25\n",
        "y_value= [y1, y2]\n",
        "plt.plot(x_value,y_value, \"\")\n",
        "\n",
        "# Labels and legend\n",
        "plt.xlabel(\"x2\")\n",
        "plt.ylabel(\"y2\")\n",
        "plt.legend(loc=3)"
      ]
    },
    {
      "cell_type": "markdown",
      "metadata": {
        "id": "Y70Tn2aCYeGd"
      },
      "source": [
        "\n",
        "### 1.6 Evaluating Logistic Regression\n",
        "\n",
        "Evaluate the model with given data. **(15 Points)**\n",
        "\n",
        "**Tasks:**\n",
        "1. Calculate the training accuracy and **PRINT IT OUT**.\n",
        "2. Evaluate the predicted probability of the learnt model with x1 = 56 and x2 = 32 and **PRINT IT OUT**.\n",
        "\n",
        "\n",
        "**Hints:**  \n",
        "1. Positive(prediction>0.5) and negative(prediction<=0.5). \n",
        "2. The prediction results are based on acceptance probability. Given the two exam scores, we expected the model yields either high probability of \"fail\" or low probability of \"pass\".\n",
        "3. Training accuracy should be around **85%**."
      ]
    },
    {
      "cell_type": "code",
      "execution_count": null,
      "metadata": {
        "id": "ceM7KsIqYeGd",
        "colab": {
          "base_uri": "https://localhost:8080/"
        },
        "outputId": "f309f3c0-f72c-481a-c9f6-4495942362fb"
      },
      "outputs": [
        {
          "output_type": "stream",
          "name": "stdout",
          "text": [
            "Predicted probability for scores (56, 32) = 27.42666161817614%\n"
          ]
        }
      ],
      "source": [
        "probability = sigmoid(np.dot(np.array([1, 56, 32]), theta))\n",
        "print('Predicted probability for scores (56, 32) = {}%'.format(100 * probability[0]))"
      ]
    },
    {
      "cell_type": "code",
      "source": [
        "# Create a predict function.\n",
        "def predict(x, theta):\n",
        "    probability = np.array(sigmoid(np.dot(x, theta)))\n",
        "    predicted = probability > 0.5\n",
        "\n",
        "    # Return all the predicted values (TRUE, FALSE) for each element\n",
        "    return predicted\n",
        "\n",
        "predicted = predict(X, theta) # Run the predict function\n",
        "predicted_int = predicted.astype(int) # Convert boolean values to int (0, 1)\n",
        "sum = np.sum(predicted_int == y)  # Count all the similarities\n",
        "total = len(predicted)  # Size of the array\n",
        "\n",
        "print('Training Accuracy: {}%'.format(100 * sum / total))"
      ],
      "metadata": {
        "colab": {
          "base_uri": "https://localhost:8080/"
        },
        "id": "NHpctsUAhGkm",
        "outputId": "18f44b01-83b3-4a24-e05f-6daa1b951ede"
      },
      "execution_count": null,
      "outputs": [
        {
          "output_type": "stream",
          "name": "stdout",
          "text": [
            "Training Accuracy: 85.0%\n"
          ]
        }
      ]
    }
  ],
  "metadata": {
    "coursera": {
      "course_slug": "neural-networks-deep-learning",
      "graded_item_id": "XaIWT",
      "launcher_item_id": "zAgPl"
    },
    "kernelspec": {
      "display_name": "Python 3",
      "language": "python",
      "name": "python3"
    },
    "language_info": {
      "codemirror_mode": {
        "name": "ipython",
        "version": 3
      },
      "file_extension": ".py",
      "mimetype": "text/x-python",
      "name": "python",
      "nbconvert_exporter": "python",
      "pygments_lexer": "ipython3",
      "version": "3.8.5"
    },
    "colab": {
      "provenance": [],
      "collapsed_sections": []
    }
  },
  "nbformat": 4,
  "nbformat_minor": 0
}